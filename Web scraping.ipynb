{
 "cells": [
  {
   "cell_type": "code",
   "execution_count": null,
   "id": "79655434",
   "metadata": {},
   "outputs": [],
   "source": [
    "#Extracting Table of Content\n",
    "\n",
    "from bs4 import BeautifulSoup\n",
    "\n",
    "# read the HTML file\n",
    "with open('example_create.html', 'r') as f:\n",
    "    html = f.read()\n",
    "\n",
    "# create a BeautifulSoup object\n",
    "soup = BeautifulSoup(html, 'html.parser')\n",
    "\n",
    "# find the table of contents\n",
    "toc = soup.find('div', {'class': 'toc'})\n",
    "\n",
    "# print the sections and subsections\n",
    "for section in toc.find_all(['h2', 'h3']):\n",
    "    print(section.text)"
   ]
  },
  {
   "cell_type": "code",
   "execution_count": null,
   "id": "fe7bfdec",
   "metadata": {},
   "outputs": [],
   "source": [
    "#extract SQL code blocks\n",
    "# find all the pre tags with class \"sql\"\n",
    "sql_blocks = soup.find_all('pre', {'class': 'sql'})\n",
    "\n",
    "# print each code block\n",
    "for block in sql_blocks:\n",
    "    print(block.text)"
   ]
  },
  {
   "cell_type": "code",
   "execution_count": null,
   "id": "9fdd3bbb",
   "metadata": {},
   "outputs": [],
   "source": [
    "#Extract tables \n",
    "# find all the tables in the HTML file\n",
    "tables = soup.find_all('table')\n",
    "\n",
    "# iterate over each table\n",
    "for table in tables:\n",
    "    # find the table headers\n",
    "    headers = [header.text for header in table.find_all('th')]\n",
    "\n",
    "    # find the rows of the table\n",
    "    rows = table.find_all('tr')[1:]\n",
    "\n",
    "    # print the table headers\n",
    "    print('\\t'.join(headers))\n",
    "\n",
    "    # print each row of the table\n",
    "    for row in rows:\n",
    "        data = [cell.text for cell in row.find_all('td')]\n",
    "        print('\\t'.join(data))\n",
    "    print()"
   ]
  },
  {
   "cell_type": "code",
   "execution_count": null,
   "id": "3a64b9d2",
   "metadata": {},
   "outputs": [],
   "source": [
    "#the list of PEPs\n",
    "\n",
    "import requests\n",
    "from bs4 import BeautifulSoup\n",
    "\n",
    "# send a GET request to the PEPs website\n",
    "url = 'https://www.python.org/dev/peps/'\n",
    "response = requests.get(url)\n",
    "\n",
    "# create a BeautifulSoup object from the HTML content\n",
    "soup = BeautifulSoup(response.content, 'html.parser')\n",
    "\n",
    "# find the tables of PEPs and their metadata\n",
    "tables = soup.find_all('table', class_='list')\n",
    "\n",
    "# iterate over each table and print its rows\n",
    "for table in tables:\n",
    "    # get the table header columns\n",
    "    header_cols = [header.text for header in table.find_all('th')]\n",
    "\n",
    "    # print the header row\n",
    "    print('\\t'.join(header_cols))\n",
    "\n",
    "    # get the table body rows\n",
    "    body_rows = table.find('tbody').find_all('tr')\n",
    "\n",
    "    # print each row\n",
    "    for row in body_rows:\n",
    "        row_cols = [col.text.strip() for col in row.find_all('td')]\n",
    "        print('\\t'.join(row_cols))\n",
    "    print()\n",
    "\n",
    "# find the categories of PEPs from the Index by Category section\n",
    "categories = soup.find('div', id='index-by-cat').find_all('li')\n",
    "\n",
    "# iterate over each category and print its PEPs\n",
    "for category in categories:\n",
    "    category_name = category.text.strip()\n",
    "    category_peps = [pep.text for pep in category.find_all('a')]\n",
    "    print(category_name + ': ' + ', '.join(category_peps))\n",
    "    print()"
   ]
  },
  {
   "cell_type": "code",
   "execution_count": null,
   "id": "c0033556",
   "metadata": {},
   "outputs": [],
   "source": []
  }
 ],
 "metadata": {
  "kernelspec": {
   "display_name": "Python 3 (ipykernel)",
   "language": "python",
   "name": "python3"
  },
  "language_info": {
   "codemirror_mode": {
    "name": "ipython",
    "version": 3
   },
   "file_extension": ".py",
   "mimetype": "text/x-python",
   "name": "python",
   "nbconvert_exporter": "python",
   "pygments_lexer": "ipython3",
   "version": "3.9.12"
  }
 },
 "nbformat": 4,
 "nbformat_minor": 5
}
