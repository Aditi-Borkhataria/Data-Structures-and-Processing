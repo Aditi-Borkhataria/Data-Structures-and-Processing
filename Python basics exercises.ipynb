{
 "cells": [
  {
   "cell_type": "markdown",
   "id": "46a1dc23",
   "metadata": {},
   "source": [
    "### Name: Aditi Bhavin Borkhataria"
   ]
  },
  {
   "cell_type": "markdown",
   "id": "4bf1e0b5",
   "metadata": {},
   "source": [
    "#### BATCH 1"
   ]
  },
  {
   "cell_type": "markdown",
   "id": "86fb3493",
   "metadata": {},
   "source": [
    "1. String concatenation: Write a program that takes two strings as input and returns the\n",
    "concatenation of the two strings."
   ]
  },
  {
   "cell_type": "code",
   "execution_count": 1,
   "id": "24216e70",
   "metadata": {},
   "outputs": [
    {
     "name": "stdout",
     "output_type": "stream",
     "text": [
      "Aditi Borkhataria\n"
     ]
    }
   ],
   "source": [
    "str1 = 'Aditi'\n",
    "str2 = 'Borkhataria'\n",
    "str_full = str1 + ' ' + str2\n",
    "print(str_full)"
   ]
  },
  {
   "cell_type": "markdown",
   "id": "0a71e817",
   "metadata": {},
   "source": [
    "2. Maximum of three numbers: Write a program that takes three numbers as input and\n",
    "returns the maximum of the three."
   ]
  },
  {
   "cell_type": "code",
   "execution_count": 7,
   "id": "2300ff88",
   "metadata": {},
   "outputs": [
    {
     "name": "stdout",
     "output_type": "stream",
     "text": [
      "9\n"
     ]
    }
   ],
   "source": [
    "lst = [2,9,6]\n",
    "maximum_of_three = max(lst)\n",
    "print(maximum_of_three)"
   ]
  },
  {
   "cell_type": "markdown",
   "id": "73ae7eb7",
   "metadata": {},
   "source": [
    "3. FizzBuzz: Write a program that prints the numbers from 1 to 100, but for multiples of\n",
    "three, it should print \"Fizz\" instead of the number, and for multiples of five, it should print\n",
    "\"Buzz\". For numbers that are multiples of both three and five, it should print \"FizzBuzz\"."
   ]
  },
  {
   "cell_type": "code",
   "execution_count": 54,
   "id": "06c2b38d",
   "metadata": {},
   "outputs": [
    {
     "name": "stdout",
     "output_type": "stream",
     "text": [
      "1\n",
      "2\n",
      "Fizz\n",
      "4\n",
      "Buzz\n",
      "Fizz\n",
      "7\n",
      "8\n",
      "Fizz\n",
      "Buzz\n",
      "11\n",
      "Fizz\n",
      "13\n",
      "14\n",
      "FizzBuzz\n",
      "16\n",
      "17\n",
      "Fizz\n",
      "19\n",
      "Buzz\n",
      "Fizz\n",
      "22\n",
      "23\n",
      "Fizz\n",
      "Buzz\n",
      "26\n",
      "Fizz\n",
      "28\n",
      "29\n",
      "FizzBuzz\n",
      "31\n",
      "32\n",
      "Fizz\n",
      "34\n",
      "Buzz\n",
      "Fizz\n",
      "37\n",
      "38\n",
      "Fizz\n",
      "Buzz\n",
      "41\n",
      "Fizz\n",
      "43\n",
      "44\n",
      "FizzBuzz\n",
      "46\n",
      "47\n",
      "Fizz\n",
      "49\n",
      "Buzz\n",
      "Fizz\n",
      "52\n",
      "53\n",
      "Fizz\n",
      "Buzz\n",
      "56\n",
      "Fizz\n",
      "58\n",
      "59\n",
      "FizzBuzz\n",
      "61\n",
      "62\n",
      "Fizz\n",
      "64\n",
      "Buzz\n",
      "Fizz\n",
      "67\n",
      "68\n",
      "Fizz\n",
      "Buzz\n",
      "71\n",
      "Fizz\n",
      "73\n",
      "74\n",
      "FizzBuzz\n",
      "76\n",
      "77\n",
      "Fizz\n",
      "79\n",
      "Buzz\n",
      "Fizz\n",
      "82\n",
      "83\n",
      "Fizz\n",
      "Buzz\n",
      "86\n",
      "Fizz\n",
      "88\n",
      "89\n",
      "FizzBuzz\n",
      "91\n",
      "92\n",
      "Fizz\n",
      "94\n",
      "Buzz\n",
      "Fizz\n",
      "97\n",
      "98\n",
      "Fizz\n",
      "Buzz\n"
     ]
    }
   ],
   "source": [
    "for i in range(1,101):\n",
    "    if i % 3 == 0 and i % 5 == 0:\n",
    "        print('FizzBuzz')\n",
    "    elif i % 3 == 0:\n",
    "        print('Fizz')\n",
    "    elif i % 5 == 0:\n",
    "        print('Buzz')\n",
    "    else:\n",
    "        print(i)"
   ]
  },
  {
   "cell_type": "markdown",
   "id": "6344f128",
   "metadata": {},
   "source": [
    "4. Sum of digits: Write a program that takes a positive integer as input and returns the sum\n",
    "of its digits."
   ]
  },
  {
   "cell_type": "code",
   "execution_count": 58,
   "id": "ad348b90",
   "metadata": {},
   "outputs": [
    {
     "name": "stdout",
     "output_type": "stream",
     "text": [
      "The sum of the digits 478264 is 31\n"
     ]
    }
   ],
   "source": [
    "def sum_digits(number):\n",
    "    return sum([int(digit) for digit in str(number)])\n",
    "\n",
    "number = 478264\n",
    "print('The sum of the digits', number, 'is', sum_digits(number))"
   ]
  },
  {
   "cell_type": "markdown",
   "id": "eaa1e703",
   "metadata": {},
   "source": [
    "5. Print stars: Write a program that takes a positive integer as input and prints that many\n",
    "asterisks (*) on a single line."
   ]
  },
  {
   "cell_type": "code",
   "execution_count": 2,
   "id": "91829282",
   "metadata": {},
   "outputs": [
    {
     "name": "stdout",
     "output_type": "stream",
     "text": [
      "*******\n"
     ]
    }
   ],
   "source": [
    "def print_asterisks(num):\n",
    "    print(\"*\" * num)\n",
    "\n",
    "num = 7\n",
    "print_asterisks(num)"
   ]
  },
  {
   "cell_type": "markdown",
   "id": "2445e486",
   "metadata": {},
   "source": [
    "6.  Reverse a string: Write a program that reverses a given string"
   ]
  },
  {
   "cell_type": "code",
   "execution_count": 68,
   "id": "83cc94a5",
   "metadata": {},
   "outputs": [
    {
     "name": "stdout",
     "output_type": "stream",
     "text": [
      "Reversed string:  gnineve dooG\n"
     ]
    }
   ],
   "source": [
    "string = 'Good evening'\n",
    "print('Reversed string: ',''.join(reverse_string(string)))"
   ]
  },
  {
   "cell_type": "markdown",
   "id": "3b60bb11",
   "metadata": {},
   "source": [
    "7. Maximum and minimum of a list: Write a program that takes a list of numbers as input\n",
    "and returns the maximum and minimum of the list."
   ]
  },
  {
   "cell_type": "code",
   "execution_count": 12,
   "id": "33a25e87",
   "metadata": {},
   "outputs": [
    {
     "name": "stdout",
     "output_type": "stream",
     "text": [
      "Max of the list:  86\n",
      "Min of the list:  34\n"
     ]
    }
   ],
   "source": [
    "import math\n",
    "lst = [34,86,79,56,41]\n",
    "print('Max of the list: ',format(max(lst)))\n",
    "print('Min of the list: ',format(min(lst)))"
   ]
  },
  {
   "cell_type": "markdown",
   "id": "95632582",
   "metadata": {},
   "source": [
    "8. Guessing game: Write a program that generates a random number between 1 and 100,\n",
    "and allows the user to guess the number. The program should give feedback on each\n",
    "guess (e.g. too high, too low, correct), and keep track of the number of guesses."
   ]
  },
  {
   "cell_type": "code",
   "execution_count": null,
   "id": "b7ed462c",
   "metadata": {},
   "outputs": [
    {
     "name": "stdout",
     "output_type": "stream",
     "text": [
      "Enter your guess: 6\n",
      "Too low\n",
      "Enter your guess: 76\n",
      "Too high\n",
      "Enter your guess: 55\n",
      "Too low\n",
      "Enter your guess: 60\n",
      "Too low\n",
      "Enter your guess: 67\n",
      "Too low\n",
      "Enter your guess: 70\n",
      "Too low\n",
      "Enter your guess: 74\n",
      "Too high\n",
      "Enter your guess: 72\n",
      "Too low\n",
      "Enter your guess: 73\n",
      "Correct\n"
     ]
    }
   ],
   "source": [
    "target = random.randint(1,100)\n",
    "count = 0\n",
    "while True:\n",
    "    count += 1\n",
    "    guess = int(input('Enter your guess: '))\n",
    "    if guess == target:\n",
    "        print('Correct')\n",
    "    elif guess < target:\n",
    "        print('Too low')\n",
    "    else:\n",
    "        print('Too high')"
   ]
  },
  {
   "cell_type": "markdown",
   "id": "74b0c55f",
   "metadata": {},
   "source": [
    "9. Average of numbers: Write a program that calculates the average of a list of numbers\n",
    "entered by the user."
   ]
  },
  {
   "cell_type": "code",
   "execution_count": 3,
   "id": "b16b0b9f",
   "metadata": {},
   "outputs": [
    {
     "name": "stdout",
     "output_type": "stream",
     "text": [
      "Average:  30.666666666666668\n"
     ]
    }
   ],
   "source": [
    "lst = [3,16,8,94,7,56]\n",
    "average = sum(lst)/len(lst)\n",
    "print('Average: ',average)"
   ]
  },
  {
   "cell_type": "markdown",
   "id": "46b4dc4c",
   "metadata": {},
   "source": [
    "10. Median of a list: Write a program that takes a list of numbers as input and returns the\n",
    "median of the list."
   ]
  },
  {
   "cell_type": "code",
   "execution_count": 4,
   "id": "2611fbf4",
   "metadata": {},
   "outputs": [
    {
     "name": "stdout",
     "output_type": "stream",
     "text": [
      "Median:  4\n"
     ]
    }
   ],
   "source": [
    "def median(numbers):\n",
    "    numbers.sort()\n",
    "    length = len(numbers)\n",
    "    if length % 2 == 0:\n",
    "        print(sum(numbers[length//2-1:length//2+1])/2)\n",
    "    else:\n",
    "        return numbers[length//2]\n",
    "    \n",
    "numbers = [2,5,8,4,6,2,4]\n",
    "Median = median(numbers)\n",
    "print('Median: ',Median)"
   ]
  },
  {
   "cell_type": "markdown",
   "id": "d7644316",
   "metadata": {},
   "source": [
    "#### BATCH 2"
   ]
  },
  {
   "cell_type": "markdown",
   "id": "d1c2b502",
   "metadata": {},
   "source": [
    "1. Factorial: Write a function that takes a positive integer as input and returns its factorial."
   ]
  },
  {
   "cell_type": "code",
   "execution_count": 2,
   "id": "a5ce9178",
   "metadata": {},
   "outputs": [
    {
     "name": "stdout",
     "output_type": "stream",
     "text": [
      "Factorial of 7 is 5040\n"
     ]
    }
   ],
   "source": [
    "def factorial(num):\n",
    "    if num == 0:\n",
    "        return 1\n",
    "    else:\n",
    "        return num * factorial(num - 1)\n",
    "\n",
    "num = 7\n",
    "print('Factorial of', num, 'is', factorial(num))"
   ]
  },
  {
   "cell_type": "markdown",
   "id": "eef3d107",
   "metadata": {},
   "source": [
    "2. Fibonacci sequence: Write a function that takes a positive integer as input and returns the first n numbers of the Fibonacci sequence"
   ]
  },
  {
   "cell_type": "code",
   "execution_count": 3,
   "id": "33ed7017",
   "metadata": {},
   "outputs": [
    {
     "name": "stdout",
     "output_type": "stream",
     "text": [
      "[0, 1, 1, 2, 3, 5, 8, 13, 21, 34]\n"
     ]
    }
   ],
   "source": [
    "def fibonacci(n):\n",
    "    fib = [0, 1]\n",
    "    for i in range(2, n):\n",
    "        fib.append(fib[i-1] + fib[i-2])\n",
    "    return fib[:n]\n",
    "\n",
    "n = 10\n",
    "fib_numbers = fibonacci(n)\n",
    "print(fib_numbers) # The first two numbers of the sequence are always 0 and 1, and each subsequent number is the sum of the two preceding ones."
   ]
  },
  {
   "cell_type": "markdown",
   "id": "f2a0453b",
   "metadata": {},
   "source": [
    "3. Palindrome: Write a function that takes a string as input and returns True if the string is\n",
    "a palindrome, and False otherwise."
   ]
  },
  {
   "cell_type": "code",
   "execution_count": 7,
   "id": "c0edfd45",
   "metadata": {},
   "outputs": [
    {
     "name": "stdout",
     "output_type": "stream",
     "text": [
      "Is madam a palidrome? True\n"
     ]
    }
   ],
   "source": [
    "def palindrome(string):\n",
    "    return string == string[::-1]\n",
    "\n",
    "string = 'madam'\n",
    "print('Is', string, 'a palidrome?', palindrome(string))"
   ]
  },
  {
   "cell_type": "markdown",
   "id": "9dccf8db",
   "metadata": {},
   "source": [
    "4. Least common multiple: Write a function that takes two positive integers as input and\n",
    "returns their least common multiple."
   ]
  },
  {
   "cell_type": "code",
   "execution_count": 4,
   "id": "5903d74e",
   "metadata": {},
   "outputs": [
    {
     "name": "stdout",
     "output_type": "stream",
     "text": [
      "36\n"
     ]
    }
   ],
   "source": [
    "# This method uses the fact that the product of two numbers is equal to the product of their GCD and LCM:\n",
    "\n",
    "def lcm(a, b):\n",
    "    # Find the maximum of the two numbers\n",
    "    m = max(a, b)\n",
    "    \n",
    "    # Check multiples of the maximum until a common multiple is found\n",
    "    while True:\n",
    "        if m % a == 0 and m % b == 0:\n",
    "            return m\n",
    "        m += 1\n",
    "\n",
    "a = 12\n",
    "b = 18\n",
    "lcm_ab = lcm(a, b)\n",
    "print(lcm_ab)"
   ]
  },
  {
   "cell_type": "code",
   "execution_count": 6,
   "id": "97895b6c",
   "metadata": {},
   "outputs": [
    {
     "name": "stdout",
     "output_type": "stream",
     "text": [
      "36\n"
     ]
    }
   ],
   "source": [
    "# Above using the Euclidean algorithm, which is faster when the numbers are big\n",
    "\n",
    "# We then compute the LCM using the formula lcm(a, b) = abs(a*b) // gcd(a, b). \n",
    "# The absolute value of a*b is taken to handle negative input values, and the floor division operator // is used\n",
    "# to return an integer.\n",
    "\n",
    "def lcm(a, b):\n",
    "    def gcd(x, y):\n",
    "        while y != 0:\n",
    "            x, y = y, x % y\n",
    "        return x\n",
    "    return abs(a*b) // gcd(a, b)\n",
    "\n",
    "a = 12\n",
    "b = 18\n",
    "lcm_ab = lcm(a, b)\n",
    "print(lcm_ab)"
   ]
  },
  {
   "cell_type": "markdown",
   "id": "6b7e69ae",
   "metadata": {},
   "source": [
    "5.  Power of a number: Write a function that takes two numbers, a base and an exponent,\n",
    "as input and returns the power of the base raised to the exponent."
   ]
  },
  {
   "cell_type": "code",
   "execution_count": 14,
   "id": "7cfac2dd",
   "metadata": {},
   "outputs": [
    {
     "name": "stdout",
     "output_type": "stream",
     "text": [
      "4 raised to the power of 3 is 0\n"
     ]
    }
   ],
   "source": [
    "def power(exponent, base):\n",
    "    for i in range(exponent):\n",
    "        return i ** base\n",
    "    \n",
    "base = 4\n",
    "exponent = 3\n",
    "print(base,'raised to the power of', exponent, 'is', power(exponent, base))"
   ]
  },
  {
   "cell_type": "markdown",
   "id": "c1ee1f07",
   "metadata": {},
   "source": [
    "6. GCD: Write a function that takes two positive integers as input and returns their greatest\n",
    "common divisor."
   ]
  },
  {
   "cell_type": "code",
   "execution_count": 9,
   "id": "1efa579a",
   "metadata": {},
   "outputs": [
    {
     "name": "stdout",
     "output_type": "stream",
     "text": [
      "6\n"
     ]
    }
   ],
   "source": [
    "# function that computes the greatest common divisor (GCD) of two positive integers using the Euclidean algorithm\n",
    "# The function takes two positive integers a and b as input and returns their greatest common divisor. \n",
    "# The greatest common divisor (GCD) is the largest positive integer that divides both a and b without leaving a remainder.\n",
    "# Euclidean algorithm, which repeatedly divides the larger number by the smaller number and takes the remainder,\n",
    "# until the remainder is 0. The GCD is the last non-zero remainder.\n",
    "\n",
    "def gcd(a, b):\n",
    "    while b != 0:\n",
    "        a, b = b, a % b\n",
    "    return a\n",
    "\n",
    "a = 12\n",
    "b = 18\n",
    "# gcd_ab = gcd(a, b)\n",
    "print(gcd_ab)\n"
   ]
  },
  {
   "cell_type": "code",
   "execution_count": 10,
   "id": "f3ec0e1e",
   "metadata": {},
   "outputs": [
    {
     "name": "stdout",
     "output_type": "stream",
     "text": [
      "6\n"
     ]
    }
   ],
   "source": [
    "# Another way of doing the above function\n",
    "\n",
    "# This method uses the fact that the GCD of two numbers is the largest positive integer that divides both numbers\n",
    "# without leaving a remainder:\n",
    "\n",
    "# The function first finds the minimum of the two numbers, since the GCD is always less than or equal to the minimum.\n",
    "# It then checks all integers from the minimum down to 1 to see if they divide both a and b. \n",
    "# When it finds the largest integer that divides both a and b, it returns it as the GCD.\n",
    "\n",
    "def gcd(a, b):\n",
    "    # Find the minimum of the two numbers\n",
    "    m = min(a, b)\n",
    "    \n",
    "    # Check all integers from m to 1 to see if they divide both a and b\n",
    "    for i in range(m, 0, -1):\n",
    "        if a % i == 0 and b % i == 0:\n",
    "            return i\n",
    "a = 12\n",
    "b = 18\n",
    "# gcd_ab = gcd(a, b)\n",
    "print(gcd_ab)"
   ]
  },
  {
   "cell_type": "markdown",
   "id": "1dd6f29d",
   "metadata": {},
   "source": [
    "7. Largest string: Write a function that takes a list of strings as input and returns the largest\n",
    "string in the list."
   ]
  },
  {
   "cell_type": "code",
   "execution_count": 15,
   "id": "9ceb1a89",
   "metadata": {},
   "outputs": [
    {
     "name": "stdout",
     "output_type": "stream",
     "text": [
      "The largest string is science\n"
     ]
    }
   ],
   "source": [
    "def large_string(string):\n",
    "    return max(string, key=len)\n",
    "\n",
    "string = ['science', 'maths', 'english']\n",
    "print('The largest string is', large_string(string))"
   ]
  },
  {
   "cell_type": "markdown",
   "id": "44c7a2d4",
   "metadata": {},
   "source": [
    "8. Reverse string: Write a function that takes a string as input and returns the string in\n",
    "reverse order"
   ]
  },
  {
   "cell_type": "code",
   "execution_count": 1,
   "id": "5131e26b",
   "metadata": {},
   "outputs": [
    {
     "name": "stdout",
     "output_type": "stream",
     "text": [
      "Reversed string: ecneicS ataD\n"
     ]
    }
   ],
   "source": [
    "def reverse_string(string):\n",
    "    return string[::-1]\n",
    "\n",
    "string = 'Data Science'\n",
    "print(\"Reversed string:\", reverse_string(string))"
   ]
  },
  {
   "cell_type": "markdown",
   "id": "d520f988",
   "metadata": {},
   "source": [
    "9. Upper case: Write a function that takes a string as input and returns the string in all\n",
    "upper case."
   ]
  },
  {
   "cell_type": "code",
   "execution_count": 2,
   "id": "07cd5501",
   "metadata": {},
   "outputs": [
    {
     "name": "stdout",
     "output_type": "stream",
     "text": [
      "Upper case string:  I LOVE DATA SCIENCE\n"
     ]
    }
   ],
   "source": [
    "def upper_case_string(string):\n",
    "    return string.upper()\n",
    "\n",
    "string = 'I love data science'\n",
    "print('Upper case string: ',upper_case_string(string))"
   ]
  },
  {
   "cell_type": "markdown",
   "id": "692d3d4c",
   "metadata": {},
   "source": [
    "10. Lower case: Write a function that takes a string as input and returns the string in all\n",
    "lower case."
   ]
  },
  {
   "cell_type": "code",
   "execution_count": 3,
   "id": "3a6ae531",
   "metadata": {},
   "outputs": [
    {
     "name": "stdout",
     "output_type": "stream",
     "text": [
      "Lower case string:  i love data science\n"
     ]
    }
   ],
   "source": [
    "def lower_case_string(string):\n",
    "    return string.lower()\n",
    "\n",
    "string = 'I love data science'\n",
    "print('Lower case string: ',lower_case_string(string))"
   ]
  },
  {
   "cell_type": "markdown",
   "id": "e9b36f13",
   "metadata": {},
   "source": [
    "#### BATCH 3"
   ]
  },
  {
   "cell_type": "markdown",
   "id": "e8dc66ba",
   "metadata": {},
   "source": [
    "1. Convert temperature: Write a program that converts Celsius to Fahrenheit and vice\n",
    "versa."
   ]
  },
  {
   "cell_type": "code",
   "execution_count": 11,
   "id": "1c78465e",
   "metadata": {},
   "outputs": [
    {
     "name": "stdout",
     "output_type": "stream",
     "text": [
      "20 degrees Celsius is 68.0 degrees Fahrenheit\n",
      "68 degrees Fahrenheit is 20.0 degrees Celsius\n"
     ]
    }
   ],
   "source": [
    "# To convert Celsius to Fahrenheit, we use the formula F = C * 9/5 + 32, where F is the temperature in Fahrenheit and C is the temperature in Celsius.\n",
    "\n",
    "def celsius_to_fahrenheit(celsius):\n",
    "    fahrenheit = (celsius * 9/5) + 32\n",
    "    return fahrenheit\n",
    "\n",
    "def fahrenheit_to_celsius(fahrenheit):\n",
    "    celsius = (fahrenheit - 32) * 5/9\n",
    "    return celsius\n",
    "\n",
    "# Test the conversion functions\n",
    "celsius = 20\n",
    "fahrenheit = celsius_to_fahrenheit(celsius)\n",
    "print(celsius, 'degrees Celsius is', fahrenheit, 'degrees Fahrenheit')\n",
    "\n",
    "fahrenheit = 68\n",
    "celsius = fahrenheit_to_celsius(fahrenheit)\n",
    "print(fahrenheit, 'degrees Fahrenheit is', celsius, 'degrees Celsius')"
   ]
  },
  {
   "cell_type": "markdown",
   "id": "a95243f2",
   "metadata": {},
   "source": [
    "2. Grade calculator: Write a program that calculates the final grade of a student based on\n",
    "their scores for several assignments and exams."
   ]
  },
  {
   "cell_type": "code",
   "execution_count": 22,
   "id": "4415b464",
   "metadata": {},
   "outputs": [
    {
     "name": "stdout",
     "output_type": "stream",
     "text": [
      "Final grade: C\n"
     ]
    }
   ],
   "source": [
    "def calculate_fgrade(assignment_scores, exam_scores):\n",
    "    assignment_w = 0.3\n",
    "    exam_w = 0.7\n",
    "    assignment_score = sum(assignment_scores) / len(assignment_scores) * assignment_w\n",
    "    exam_score = sum(exam_scores) / len(exam_scores) * exam_w\n",
    "    final_score = assignment_score + exam_score\n",
    "    if final_score >= 90:\n",
    "        return \"A\"\n",
    "    elif final_score >= 80:\n",
    "          return \"B\"\n",
    "    elif final_score >= 70:\n",
    "        return \"C\"\n",
    "    elif final_score >= 60:\n",
    "        return \"D\"\n",
    "    else:\n",
    "        return \"F\"\n",
    "\n",
    "assignment_scores = [34, 48, 93, 99, 60]\n",
    "exam_scores = [97, 84, 70, 62, 55]\n",
    "final_grade = calculate_fgrade(assignment_scores, exam_scores)\n",
    "print(\"Final grade:\", final_grade)"
   ]
  },
  {
   "cell_type": "markdown",
   "id": "80859eb5",
   "metadata": {},
   "source": [
    "3.  Odd or even: Write a program that determines if a given number is odd or even."
   ]
  },
  {
   "cell_type": "code",
   "execution_count": 45,
   "id": "707838e6",
   "metadata": {},
   "outputs": [
    {
     "name": "stdout",
     "output_type": "stream",
     "text": [
      "4 is even\n",
      "33 is odd\n",
      "198 is even\n",
      "1 is odd\n"
     ]
    }
   ],
   "source": [
    "def even_odd(num):\n",
    "    if num % 2 == 0:\n",
    "        print(str(num) + \" is even\")\n",
    "    else:\n",
    "        print(str(num) + \" is odd\")\n",
    "\n",
    "even_odd(4)\n",
    "even_odd(33)\n",
    "even_odd(198)\n",
    "even_odd(1)"
   ]
  },
  {
   "cell_type": "markdown",
   "id": "6f11f6f2",
   "metadata": {},
   "source": [
    "4. Prime numbers: Write a program that determines if a given number is prime."
   ]
  },
  {
   "cell_type": "code",
   "execution_count": 49,
   "id": "98f349ac",
   "metadata": {},
   "outputs": [
    {
     "name": "stdout",
     "output_type": "stream",
     "text": [
      "21 is prime: False\n",
      "37 is prime: True\n"
     ]
    }
   ],
   "source": [
    "def is_prime(num):\n",
    "    if num <= 1:\n",
    "        return False\n",
    "    for k in range(2, num):\n",
    "        if num % k == 0:\n",
    "            return False\n",
    "    return True\n",
    "\n",
    "print(21, \"is prime:\", is_prime(21))\n",
    "print(37, \"is prime:\", is_prime(37))"
   ]
  },
  {
   "cell_type": "markdown",
   "id": "e48ca71d",
   "metadata": {},
   "source": [
    "5. Multiplication table: Write a program that generates a multiplication table for the\n",
    "numbers 1 to 10."
   ]
  },
  {
   "cell_type": "code",
   "execution_count": 12,
   "id": "9df1cbf7",
   "metadata": {},
   "outputs": [
    {
     "name": "stdout",
     "output_type": "stream",
     "text": [
      " 1 x  1 =   1\n",
      " 1 x  2 =   2\n",
      " 1 x  3 =   3\n",
      " 1 x  4 =   4\n",
      " 1 x  5 =   5\n",
      " 1 x  6 =   6\n",
      " 1 x  7 =   7\n",
      " 1 x  8 =   8\n",
      " 1 x  9 =   9\n",
      " 1 x 10 =  10\n",
      "\n",
      " 2 x  1 =   2\n",
      " 2 x  2 =   4\n",
      " 2 x  3 =   6\n",
      " 2 x  4 =   8\n",
      " 2 x  5 =  10\n",
      " 2 x  6 =  12\n",
      " 2 x  7 =  14\n",
      " 2 x  8 =  16\n",
      " 2 x  9 =  18\n",
      " 2 x 10 =  20\n",
      "\n",
      " 3 x  1 =   3\n",
      " 3 x  2 =   6\n",
      " 3 x  3 =   9\n",
      " 3 x  4 =  12\n",
      " 3 x  5 =  15\n",
      " 3 x  6 =  18\n",
      " 3 x  7 =  21\n",
      " 3 x  8 =  24\n",
      " 3 x  9 =  27\n",
      " 3 x 10 =  30\n",
      "\n",
      " 4 x  1 =   4\n",
      " 4 x  2 =   8\n",
      " 4 x  3 =  12\n",
      " 4 x  4 =  16\n",
      " 4 x  5 =  20\n",
      " 4 x  6 =  24\n",
      " 4 x  7 =  28\n",
      " 4 x  8 =  32\n",
      " 4 x  9 =  36\n",
      " 4 x 10 =  40\n",
      "\n",
      " 5 x  1 =   5\n",
      " 5 x  2 =  10\n",
      " 5 x  3 =  15\n",
      " 5 x  4 =  20\n",
      " 5 x  5 =  25\n",
      " 5 x  6 =  30\n",
      " 5 x  7 =  35\n",
      " 5 x  8 =  40\n",
      " 5 x  9 =  45\n",
      " 5 x 10 =  50\n",
      "\n",
      " 6 x  1 =   6\n",
      " 6 x  2 =  12\n",
      " 6 x  3 =  18\n",
      " 6 x  4 =  24\n",
      " 6 x  5 =  30\n",
      " 6 x  6 =  36\n",
      " 6 x  7 =  42\n",
      " 6 x  8 =  48\n",
      " 6 x  9 =  54\n",
      " 6 x 10 =  60\n",
      "\n",
      " 7 x  1 =   7\n",
      " 7 x  2 =  14\n",
      " 7 x  3 =  21\n",
      " 7 x  4 =  28\n",
      " 7 x  5 =  35\n",
      " 7 x  6 =  42\n",
      " 7 x  7 =  49\n",
      " 7 x  8 =  56\n",
      " 7 x  9 =  63\n",
      " 7 x 10 =  70\n",
      "\n",
      " 8 x  1 =   8\n",
      " 8 x  2 =  16\n",
      " 8 x  3 =  24\n",
      " 8 x  4 =  32\n",
      " 8 x  5 =  40\n",
      " 8 x  6 =  48\n",
      " 8 x  7 =  56\n",
      " 8 x  8 =  64\n",
      " 8 x  9 =  72\n",
      " 8 x 10 =  80\n",
      "\n",
      " 9 x  1 =   9\n",
      " 9 x  2 =  18\n",
      " 9 x  3 =  27\n",
      " 9 x  4 =  36\n",
      " 9 x  5 =  45\n",
      " 9 x  6 =  54\n",
      " 9 x  7 =  63\n",
      " 9 x  8 =  72\n",
      " 9 x  9 =  81\n",
      " 9 x 10 =  90\n",
      "\n",
      "10 x  1 =  10\n",
      "10 x  2 =  20\n",
      "10 x  3 =  30\n",
      "10 x  4 =  40\n",
      "10 x  5 =  50\n",
      "10 x  6 =  60\n",
      "10 x  7 =  70\n",
      "10 x  8 =  80\n",
      "10 x  9 =  90\n",
      "10 x 10 = 100\n",
      "\n"
     ]
    }
   ],
   "source": [
    "for i in range(1, 11):\n",
    "    for j in range(1, 11):\n",
    "        # Compute the product of i and j\n",
    "        product = i * j\n",
    "        \n",
    "        # Print the product in a formatted way\n",
    "        print('{:2d} x {:2d} = {:3d}'.format(i, j, product))\n",
    "        \n",
    "    # Print a blank line after each row of the multiplication table\n",
    "    print()"
   ]
  },
  {
   "cell_type": "markdown",
   "id": "6e1a0f61",
   "metadata": {},
   "source": [
    "6. Reverse order of words in a sentence: Write a program that takes a sentence as input\n",
    "and returns the sentence with the words in reverse order."
   ]
  },
  {
   "cell_type": "code",
   "execution_count": 43,
   "id": "9a2c6db1",
   "metadata": {},
   "outputs": [
    {
     "name": "stdout",
     "output_type": "stream",
     "text": [
      "Original list: I am studying data science\n",
      "Reversed list: science data studying am I\n"
     ]
    }
   ],
   "source": [
    "def reverse_sentence(text):\n",
    "    words = text.split()\n",
    "    words = words[::-1]\n",
    "    return ' '.join(words)\n",
    "\n",
    "text = 'I am studying data science'\n",
    "print(\"Original list:\", text)\n",
    "print(\"Reversed list:\", reverse_sentence(text))"
   ]
  },
  {
   "cell_type": "markdown",
   "id": "68533424",
   "metadata": {},
   "source": [
    "7. Reverse order of elements in a list: Write a program that takes a list of numbers as input\n",
    "and returns the list with the elements in reverse order."
   ]
  },
  {
   "cell_type": "code",
   "execution_count": 46,
   "id": "3d0d2428",
   "metadata": {},
   "outputs": [
    {
     "name": "stdout",
     "output_type": "stream",
     "text": [
      "Original list: [17, 18, 19, 20, 21]\n",
      "Reversed list: [21, 20, 19, 18, 17]\n"
     ]
    }
   ],
   "source": [
    "def reverse_list(numbers):\n",
    "    return numbers[::-1]\n",
    "\n",
    "numbers = [17, 18, 19, 20, 21]\n",
    "print(\"Original list:\", numbers)\n",
    "print(\"Reversed list:\", reverse_list(numbers))"
   ]
  },
  {
   "cell_type": "markdown",
   "id": "4f5885e2",
   "metadata": {},
   "source": [
    "8. Word count: Write a program that takes a string as input and returns the number of\n",
    "words in the string."
   ]
  },
  {
   "cell_type": "code",
   "execution_count": 34,
   "id": "710c51f7",
   "metadata": {},
   "outputs": [
    {
     "name": "stdout",
     "output_type": "stream",
     "text": [
      "Number of words in the text: 4\n",
      "Number of words in the text: 5\n"
     ]
    }
   ],
   "source": [
    "def count_words(text):\n",
    "    words = text.split()\n",
    "    return len(words)\n",
    "\n",
    "text = \"Today is my birthday.\"\n",
    "print(\"Number of words in the text:\", count_words(text))\n",
    "\n",
    "text = \"I am studying data science.\"\n",
    "print(\"Number of words in the text:\", count_words(text))"
   ]
  },
  {
   "cell_type": "markdown",
   "id": "074959f0",
   "metadata": {},
   "source": [
    "9. Vowel count: Write a program that takes a string as input and returns the number of\n",
    "vowels (a, e, i, o, u) in the string."
   ]
  },
  {
   "cell_type": "code",
   "execution_count": 47,
   "id": "be80d14a",
   "metadata": {},
   "outputs": [
    {
     "name": "stdout",
     "output_type": "stream",
     "text": [
      "4\n",
      "5\n",
      "7\n"
     ]
    }
   ],
   "source": [
    "def count_vowels(string):\n",
    "    vowels = \"aeiouAEIOU\"\n",
    "    count = 0\n",
    "    for char in string:\n",
    "        if char in vowels:\n",
    "            count += 1\n",
    "    return count\n",
    "\n",
    "print(count_vowels(\"Good Morning\"))\n",
    "print(count_vowels(\"This is a table\"))\n",
    "print(count_vowels(\"Python is simple to learn\"))"
   ]
  },
  {
   "cell_type": "markdown",
   "id": "6be0ed4b",
   "metadata": {},
   "source": [
    "10. Capitalize first letter of each word: Write a program that takes a sentence as input and\n",
    "returns the sentence with the first letter of each word capitalized."
   ]
  },
  {
   "cell_type": "code",
   "execution_count": 28,
   "id": "f65522ea",
   "metadata": {},
   "outputs": [
    {
     "name": "stdout",
     "output_type": "stream",
     "text": [
      "The Dog Is Barking\n"
     ]
    }
   ],
   "source": [
    "str1 = 'the'\n",
    "str2 = 'dog'\n",
    "str3 = 'is'\n",
    "str4 = 'barking'\n",
    "\n",
    "str11 = str1.capitalize()\n",
    "str21 = str2.capitalize()\n",
    "str31 = str3.capitalize()\n",
    "str41 = str4.capitalize()\n",
    "\n",
    "print(str11 + ' ' + str21 + ' ' + str31 + ' ' + str41)"
   ]
  }
 ],
 "metadata": {
  "kernelspec": {
   "display_name": "Python 3 (ipykernel)",
   "language": "python",
   "name": "python3"
  },
  "language_info": {
   "codemirror_mode": {
    "name": "ipython",
    "version": 3
   },
   "file_extension": ".py",
   "mimetype": "text/x-python",
   "name": "python",
   "nbconvert_exporter": "python",
   "pygments_lexer": "ipython3",
   "version": "3.9.12"
  }
 },
 "nbformat": 4,
 "nbformat_minor": 5
}
